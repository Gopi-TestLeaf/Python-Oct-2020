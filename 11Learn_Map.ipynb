{
 "cells": [
  {
   "cell_type": "markdown",
   "metadata": {},
   "source": [
    "# Map Function:- \n",
    "\n",
    "\n",
    "- func\n",
    "- iterables\n",
    "- return map object - convert as list.....\n",
    "\n",
    "### Syntax:\n",
    "- map(function, iterable)\n",
    "- map(function, iterable1, iterable2)"
   ]
  },
  {
   "cell_type": "code",
   "execution_count": 8,
   "metadata": {},
   "outputs": [],
   "source": [
    "def sq(a):\n",
    "    return a**3"
   ]
  },
  {
   "cell_type": "code",
   "execution_count": 9,
   "metadata": {},
   "outputs": [
    {
     "data": {
      "text/plain": [
       "8"
      ]
     },
     "execution_count": 9,
     "metadata": {},
     "output_type": "execute_result"
    }
   ],
   "source": [
    "sq(2)"
   ]
  },
  {
   "cell_type": "code",
   "execution_count": 7,
   "metadata": {},
   "outputs": [
    {
     "data": {
      "text/plain": [
       "[1, 8, 27, 64, 125]"
      ]
     },
     "execution_count": 7,
     "metadata": {},
     "output_type": "execute_result"
    }
   ],
   "source": [
    "ls1= []\n",
    "ls = [1, 2, 3, 4, 5]\n",
    "for i in ls:\n",
    "    ls1.append(sq(i))\n",
    "    \n",
    "ls1\n"
   ]
  },
  {
   "cell_type": "code",
   "execution_count": 11,
   "metadata": {},
   "outputs": [
    {
     "data": {
      "text/plain": [
       "[1, 8, 27, 64, 125]"
      ]
     },
     "execution_count": 11,
     "metadata": {},
     "output_type": "execute_result"
    }
   ],
   "source": [
    "list(map(sq, ls))"
   ]
  },
  {
   "cell_type": "code",
   "execution_count": 13,
   "metadata": {},
   "outputs": [
    {
     "data": {
      "text/plain": [
       "[1, 8, 27, 64, 125]"
      ]
     },
     "execution_count": 13,
     "metadata": {},
     "output_type": "execute_result"
    }
   ],
   "source": [
    "list(map(lambda a : a**3, [1, 2, 3, 4, 5]))"
   ]
  },
  {
   "cell_type": "code",
   "execution_count": 15,
   "metadata": {},
   "outputs": [],
   "source": [
    "f = lambda a, b : a + b"
   ]
  },
  {
   "cell_type": "code",
   "execution_count": 16,
   "metadata": {},
   "outputs": [
    {
     "data": {
      "text/plain": [
       "30"
      ]
     },
     "execution_count": 16,
     "metadata": {},
     "output_type": "execute_result"
    }
   ],
   "source": [
    "f(10, 20)"
   ]
  },
  {
   "cell_type": "code",
   "execution_count": 19,
   "metadata": {},
   "outputs": [
    {
     "data": {
      "text/plain": [
       "[11, 22, 33, 44, 55]"
      ]
     },
     "execution_count": 19,
     "metadata": {},
     "output_type": "execute_result"
    }
   ],
   "source": [
    "ls1 = [1, 2, 3, 4, 5]\n",
    "ls2 = [10, 20, 30, 40, 50]\n",
    "ls3=[]\n",
    "\n",
    "# ls3 = [11, 22, 33, 44, 55]\n",
    "for i in range(len(ls1)):\n",
    "    ls3.append(ls1[i] + ls2[i])\n",
    "ls3   "
   ]
  },
  {
   "cell_type": "code",
   "execution_count": 21,
   "metadata": {},
   "outputs": [
    {
     "data": {
      "text/plain": [
       "(11, 22, 33, 44, 55)"
      ]
     },
     "execution_count": 21,
     "metadata": {},
     "output_type": "execute_result"
    }
   ],
   "source": [
    "tuple(map(lambda a, b: a + b, ls1, ls2))"
   ]
  },
  {
   "cell_type": "code",
   "execution_count": 22,
   "metadata": {},
   "outputs": [
    {
     "data": {
      "text/plain": [
       "[2, 4, 4, 6, 6]"
      ]
     },
     "execution_count": 22,
     "metadata": {},
     "output_type": "execute_result"
    }
   ],
   "source": [
    "list(map(lambda a : a+2 if a % 2 == 0 else a+1, [1, 2, 3, 4, 5]))"
   ]
  },
  {
   "cell_type": "code",
   "execution_count": 26,
   "metadata": {},
   "outputs": [
    {
     "name": "stdout",
     "output_type": "stream",
     "text": [
      "['G', 'O', 'P', 'I', 'N', 'A', 'T', 'H']\n"
     ]
    },
    {
     "data": {
      "text/plain": [
       "['G', 'O', 'P', 'I', 'N', 'A', 'T', 'H']"
      ]
     },
     "execution_count": 26,
     "metadata": {},
     "output_type": "execute_result"
    }
   ],
   "source": [
    "name = \"Gopinath\"\n",
    "fn = lambda a : a.upper()\n",
    "m = map(fn, name)\n",
    "print(list(m))\n",
    "#************************************\n",
    "list(map(lambda a : a.upper(), name))"
   ]
  },
  {
   "cell_type": "code",
   "execution_count": 27,
   "metadata": {},
   "outputs": [],
   "source": [
    "f_data = {  'Chennai'   : 29,\n",
    "            'Bangalore' : 36,\n",
    "            'Hyderabad' : 19,\n",
    "            'Delhi'     : 26,\n",
    "            'Mumbai'    : 32 }"
   ]
  },
  {
   "cell_type": "code",
   "execution_count": 31,
   "metadata": {},
   "outputs": [
    {
     "name": "stdout",
     "output_type": "stream",
     "text": [
      "Chennai 84.2\n",
      "Bangalore 96.8\n",
      "Hyderabad 66.2\n",
      "Delhi 78.80000000000001\n",
      "Mumbai 89.6\n"
     ]
    }
   ],
   "source": [
    "for i in f_data.items():\n",
    "    print(i[0], (9/5)*i[1] + 32)"
   ]
  },
  {
   "cell_type": "code",
   "execution_count": 32,
   "metadata": {},
   "outputs": [
    {
     "data": {
      "text/plain": [
       "[('Chennai', 84.2),\n",
       " ('Bangalore', 96.8),\n",
       " ('Hyderabad', 66.2),\n",
       " ('Delhi', 78.80000000000001),\n",
       " ('Mumbai', 89.6)]"
      ]
     },
     "execution_count": 32,
     "metadata": {},
     "output_type": "execute_result"
    }
   ],
   "source": [
    "list(map(lambda data : (data[0], (9/5)*data[1] + 32), f_data.items()))"
   ]
  },
  {
   "cell_type": "code",
   "execution_count": 33,
   "metadata": {},
   "outputs": [
    {
     "data": {
      "text/plain": [
       "{'Chennai': 84.2,\n",
       " 'Bangalore': 96.8,\n",
       " 'Hyderabad': 66.2,\n",
       " 'Delhi': 78.80000000000001,\n",
       " 'Mumbai': 89.6}"
      ]
     },
     "execution_count": 33,
     "metadata": {},
     "output_type": "execute_result"
    }
   ],
   "source": [
    "dict(map(lambda data : (data[0], (9/5)*data[1] + 32), f_data.items()))"
   ]
  },
  {
   "cell_type": "code",
   "execution_count": 34,
   "metadata": {},
   "outputs": [],
   "source": [
    "f_data = {  'Chennai'   : 29,\n",
    "            'Bangalore' : 36,\n",
    "            'Hyderabad' : 19,\n",
    "            'Delhi'     : 26,\n",
    "            'Mumbai'    : 32 }"
   ]
  },
  {
   "cell_type": "code",
   "execution_count": 43,
   "metadata": {},
   "outputs": [
    {
     "name": "stdout",
     "output_type": "stream",
     "text": [
      "Chennai -----> 84.2\n",
      "Bangalore -----> 96.8\n",
      "Hyderabad -----> 66.2\n",
      "Delhi -----> 78.80000000000001\n",
      "Mumbai -----> 89.6\n"
     ]
    }
   ],
   "source": [
    "for i in f_data.items():\n",
    "    print(i[0],\"----->\",((9/5)*i[1] + 32))"
   ]
  },
  {
   "cell_type": "code",
   "execution_count": 38,
   "metadata": {},
   "outputs": [],
   "source": [
    "z = list(('Chennai', 29))\n",
    "z[1] = (9/5)*z[1] + 32"
   ]
  },
  {
   "cell_type": "code",
   "execution_count": 39,
   "metadata": {},
   "outputs": [
    {
     "data": {
      "text/plain": [
       "['Chennai', 84.2]"
      ]
     },
     "execution_count": 39,
     "metadata": {},
     "output_type": "execute_result"
    }
   ],
   "source": [
    "z"
   ]
  },
  {
   "cell_type": "code",
   "execution_count": 47,
   "metadata": {},
   "outputs": [
    {
     "data": {
      "text/plain": [
       "{'Chennai': 84.2,\n",
       " 'Bangalore': 96.8,\n",
       " 'Hyderabad': 66.2,\n",
       " 'Delhi': 78.80000000000001,\n",
       " 'Mumbai': 89.6}"
      ]
     },
     "execution_count": 47,
     "metadata": {},
     "output_type": "execute_result"
    }
   ],
   "source": [
    "dict(map(lambda data : (data[0], (9/5)*data[1]+32), f_data.items()))"
   ]
  },
  {
   "cell_type": "code",
   "execution_count": 48,
   "metadata": {},
   "outputs": [],
   "source": [
    "f_data = {  'Chennai'   : 29,\n",
    "            'Bangalore' : 36,\n",
    "            'Hyderabad' : 19,\n",
    "            'Delhi'     : 26,\n",
    "            'Mumbai'    : 32 }"
   ]
  },
  {
   "cell_type": "code",
   "execution_count": 49,
   "metadata": {},
   "outputs": [
    {
     "data": {
      "text/plain": [
       "29"
      ]
     },
     "execution_count": 49,
     "metadata": {},
     "output_type": "execute_result"
    }
   ],
   "source": [
    "f_data['Chennai']"
   ]
  },
  {
   "cell_type": "code",
   "execution_count": 50,
   "metadata": {},
   "outputs": [
    {
     "data": {
      "text/plain": [
       "dict_keys(['Chennai', 'Bangalore', 'Hyderabad', 'Delhi', 'Mumbai'])"
      ]
     },
     "execution_count": 50,
     "metadata": {},
     "output_type": "execute_result"
    }
   ],
   "source": [
    "f_data.keys()"
   ]
  },
  {
   "cell_type": "code",
   "execution_count": 57,
   "metadata": {},
   "outputs": [
    {
     "name": "stdout",
     "output_type": "stream",
     "text": [
      "[29, 36, 19, 26, 32]\n"
     ]
    }
   ],
   "source": [
    "x = f_data.values()\n",
    "print(list(x))"
   ]
  },
  {
   "cell_type": "code",
   "execution_count": 52,
   "metadata": {},
   "outputs": [
    {
     "data": {
      "text/plain": [
       "dict_items([('Chennai', 29), ('Bangalore', 36), ('Hyderabad', 19), ('Delhi', 26), ('Mumbai', 32)])"
      ]
     },
     "execution_count": 52,
     "metadata": {},
     "output_type": "execute_result"
    }
   ],
   "source": [
    "f_data.items()"
   ]
  },
  {
   "cell_type": "code",
   "execution_count": 54,
   "metadata": {},
   "outputs": [
    {
     "name": "stdout",
     "output_type": "stream",
     "text": [
      "29\n",
      "36\n",
      "19\n",
      "26\n",
      "32\n"
     ]
    }
   ],
   "source": [
    "for i, j in f_data.items():\n",
    "    print(j)"
   ]
  },
  {
   "cell_type": "code",
   "execution_count": null,
   "metadata": {},
   "outputs": [],
   "source": []
  }
 ],
 "metadata": {
  "kernelspec": {
   "display_name": "Python 3",
   "language": "python",
   "name": "python3"
  },
  "language_info": {
   "codemirror_mode": {
    "name": "ipython",
    "version": 3
   },
   "file_extension": ".py",
   "mimetype": "text/x-python",
   "name": "python",
   "nbconvert_exporter": "python",
   "pygments_lexer": "ipython3",
   "version": "3.8.3"
  }
 },
 "nbformat": 4,
 "nbformat_minor": 4
}
