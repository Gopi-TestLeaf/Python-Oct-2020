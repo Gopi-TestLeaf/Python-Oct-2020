{
 "cells": [
  {
   "cell_type": "markdown",
   "metadata": {},
   "source": [
    "# Learn Dictionary\n",
    "1. Dictionary is unordered collection of Pairs. -> Keys with values {key:value}\n",
    "2. Key must be a unique and value allows dups\n",
    "3. If you assign a value to a key then later in the same dictionary have the same key assigned to a new value, the previous value will be overwritten.\n",
    "5. collection of items accessed by a specific key rather than by index. \n",
    "\n"
   ]
  },
  {
   "cell_type": "markdown",
   "metadata": {},
   "source": [
    "## initialize Dict"
   ]
  },
  {
   "cell_type": "code",
   "execution_count": 1,
   "metadata": {},
   "outputs": [
    {
     "name": "stdout",
     "output_type": "stream",
     "text": [
      "<class 'dict'>\n"
     ]
    }
   ],
   "source": [
    "a_version = {'Pie' : 9.0, \n",
    "             'Oreo' : 8.0, \n",
    "             'Nougat' : 7.0,\n",
    "             'Marshmallow' : 7.0}\n",
    "print(type(a_version))"
   ]
  },
  {
   "cell_type": "markdown",
   "metadata": {},
   "source": [
    "## get value the value "
   ]
  },
  {
   "cell_type": "code",
   "execution_count": 2,
   "metadata": {
    "scrolled": true
   },
   "outputs": [
    {
     "name": "stdout",
     "output_type": "stream",
     "text": [
      "8.0\n"
     ]
    }
   ],
   "source": [
    "print(a_version['Oreo'])"
   ]
  },
  {
   "cell_type": "markdown",
   "metadata": {},
   "source": [
    "## update the value"
   ]
  },
  {
   "cell_type": "code",
   "execution_count": 3,
   "metadata": {},
   "outputs": [
    {
     "name": "stdout",
     "output_type": "stream",
     "text": [
      "8.1\n"
     ]
    }
   ],
   "source": [
    "a_version['Oreo'] = 8.1\n",
    "print(a_version['Oreo'])"
   ]
  },
  {
   "cell_type": "markdown",
   "metadata": {},
   "source": [
    "## try to get value which is not present in the Dict"
   ]
  },
  {
   "cell_type": "code",
   "execution_count": 5,
   "metadata": {},
   "outputs": [
    {
     "ename": "KeyError",
     "evalue": "'Oreo1'",
     "output_type": "error",
     "traceback": [
      "\u001b[1;31m---------------------------------------------------------------------------\u001b[0m",
      "\u001b[1;31mKeyError\u001b[0m                                  Traceback (most recent call last)",
      "\u001b[1;32m<ipython-input-5-8af095f83be9>\u001b[0m in \u001b[0;36m<module>\u001b[1;34m\u001b[0m\n\u001b[1;32m----> 1\u001b[1;33m \u001b[0mprint\u001b[0m\u001b[1;33m(\u001b[0m\u001b[0ma_version\u001b[0m\u001b[1;33m[\u001b[0m\u001b[1;34m'Oreo1'\u001b[0m\u001b[1;33m]\u001b[0m\u001b[1;33m)\u001b[0m\u001b[1;33m\u001b[0m\u001b[1;33m\u001b[0m\u001b[0m\n\u001b[0m",
      "\u001b[1;31mKeyError\u001b[0m: 'Oreo1'"
     ]
    }
   ],
   "source": [
    "print(a_version['Oreo1'])"
   ]
  },
  {
   "cell_type": "markdown",
   "metadata": {},
   "source": [
    "## another way to get the value"
   ]
  },
  {
   "cell_type": "code",
   "execution_count": 4,
   "metadata": {},
   "outputs": [
    {
     "name": "stdout",
     "output_type": "stream",
     "text": [
      "8.1\n"
     ]
    }
   ],
   "source": [
    "print(a_version.get('Oreo'))"
   ]
  },
  {
   "cell_type": "markdown",
   "metadata": {},
   "source": [
    "## try to get value using get func which is not present in the Dict"
   ]
  },
  {
   "cell_type": "code",
   "execution_count": 5,
   "metadata": {},
   "outputs": [
    {
     "name": "stdout",
     "output_type": "stream",
     "text": [
      "None\n"
     ]
    }
   ],
   "source": [
    "print(a_version.get('Oreo1'))"
   ]
  },
  {
   "cell_type": "markdown",
   "metadata": {},
   "source": [
    "## try to get value using get func which is not present in the Dict, then we set default value"
   ]
  },
  {
   "cell_type": "code",
   "execution_count": 1,
   "metadata": {},
   "outputs": [
    {
     "name": "stdout",
     "output_type": "stream",
     "text": [
      "7.0\n"
     ]
    }
   ],
   "source": [
    "a_version = {'Pie' : 9.0, \n",
    "             'Oreo' : 8.0, \n",
    "             'Nougat1' : 7.0,\n",
    "             'Marshmallow' : 6.0,\n",
    "              'Nougat' : 10.0,}\n",
    "\n",
    "print(a_version.get('Nougat1', 150))"
   ]
  },
  {
   "cell_type": "markdown",
   "metadata": {},
   "source": [
    "## get only keys in the Dict"
   ]
  },
  {
   "cell_type": "code",
   "execution_count": 9,
   "metadata": {},
   "outputs": [
    {
     "name": "stdout",
     "output_type": "stream",
     "text": [
      "dict_keys(['Pie', 'Oreo', 'Nougat1', 'Marshmallow', 'Nougat'])\n"
     ]
    }
   ],
   "source": [
    "print(a_version.keys())"
   ]
  },
  {
   "cell_type": "code",
   "execution_count": 10,
   "metadata": {},
   "outputs": [
    {
     "name": "stdout",
     "output_type": "stream",
     "text": [
      "dict_values([9.0, 8.0, 7.0, 6.0, 10.0])\n"
     ]
    }
   ],
   "source": [
    "# get only values in the Dict\n",
    "print(a_version.values())"
   ]
  },
  {
   "cell_type": "code",
   "execution_count": 11,
   "metadata": {},
   "outputs": [
    {
     "name": "stdout",
     "output_type": "stream",
     "text": [
      "dict_items([('Pie', 9.0), ('Oreo', 8.0), ('Nougat1', 7.0), ('Marshmallow', 6.0), ('Nougat', 10.0)])\n"
     ]
    }
   ],
   "source": [
    "# get key with value pair\n",
    "print(a_version.items())"
   ]
  },
  {
   "cell_type": "code",
   "execution_count": null,
   "metadata": {},
   "outputs": [],
   "source": [
    "# for each Key with value\n",
    "for key,value in a_version.items():\n",
    "    print(f\"{key} ----------> {value}\")\n",
    "    \n",
    "    print(\"{key}  {key}\".format(key, key))"
   ]
  },
  {
   "cell_type": "code",
   "execution_count": null,
   "metadata": {},
   "outputs": [],
   "source": [
    "# delete the entry\n",
    "a_version = {'Pie' : 9.0, 'Oreo' : 8.0, 'Nougat' : 7.0, 'Marshmallow' : 6.0}\n",
    "del a_version['Oreo']\n",
    "print(a_version)"
   ]
  },
  {
   "cell_type": "code",
   "execution_count": 2,
   "metadata": {},
   "outputs": [
    {
     "name": "stdout",
     "output_type": "stream",
     "text": [
      "Enter the text:Automation\n",
      "Enter the text:t\n",
      "{'t': 2}\n"
     ]
    }
   ],
   "source": [
    "# write a code for get given character count for given String\n",
    "str = input(\"Enter the text:\" )\n",
    "str1 = input(\"Enter the text:\" )\n",
    "\n",
    "count = 0\n",
    "char_Count = {} #[]\n",
    "\n",
    "for eachChar in str:\n",
    "    if(eachChar == str1):\n",
    "        count +=1  # count = count+1\n",
    "        char_Count[eachChar] = count\n",
    "\n",
    "print(char_Count)\n"
   ]
  },
  {
   "cell_type": "code",
   "execution_count": null,
   "metadata": {},
   "outputs": [],
   "source": [
    "# write a code for print each character count for given String\n",
    "str = \"testleaf\"\n",
    "\n",
    "char_Count = {} #[]\n",
    "\n",
    "for eachChar in str:\n",
    "    char_Count[eachChar] = char_Count.get(eachChar, 0)+1\n",
    "\n",
    "print(char_Count)\n"
   ]
  },
  {
   "cell_type": "code",
   "execution_count": null,
   "metadata": {},
   "outputs": [],
   "source": [
    "# write a code for print each word count for given String\n",
    "str = \"Data hello Data\"\n",
    "\n",
    "word_Count = {} #[]\n",
    "\n",
    "for eachword in str.split():\n",
    "    word_Count[eachword] = word_Count.get(eachword, 0)+1\n",
    "\n",
    "print(word_Count)"
   ]
  },
  {
   "cell_type": "code",
   "execution_count": null,
   "metadata": {},
   "outputs": [],
   "source": [
    "d = {'a':1, 'b':2, 'c':3} \n",
    "for k in d:\n",
    "    #print(\"{0}: {1}\".format(k, d[k])) \n",
    "    print(f\"{k} : {d[k]}\")\n"
   ]
  },
  {
   "cell_type": "code",
   "execution_count": null,
   "metadata": {},
   "outputs": [],
   "source": [
    "d = {'a':1, 'Z':6, 'b':3} \n",
    "for k in sorted(d):\n",
    "    print(f\"{k} : {d[k]}\")\n"
   ]
  },
  {
   "cell_type": "code",
   "execution_count": 2,
   "metadata": {},
   "outputs": [
    {
     "data": {
      "text/plain": [
       "{'Pie': 9.0, 'Oreo': 8.0, 'Nougat1': 7.0, 'Marshmallow': 6.0, 'Nougat': 10.0}"
      ]
     },
     "execution_count": 2,
     "metadata": {},
     "output_type": "execute_result"
    }
   ],
   "source": [
    "a_version"
   ]
  },
  {
   "cell_type": "code",
   "execution_count": 7,
   "metadata": {},
   "outputs": [
    {
     "data": {
      "text/plain": [
       "{1: (100, 200, 300), 2: (100, 200, 300), 3: (100, 200, 300)}"
      ]
     },
     "execution_count": 7,
     "metadata": {},
     "output_type": "execute_result"
    }
   ],
   "source": [
    "a_version.fromkeys((1,2,3), (100, 200, 300))"
   ]
  },
  {
   "cell_type": "code",
   "execution_count": 9,
   "metadata": {},
   "outputs": [
    {
     "data": {
      "text/plain": [
       "10"
      ]
     },
     "execution_count": 9,
     "metadata": {},
     "output_type": "execute_result"
    }
   ],
   "source": [
    "a_version.setdefault('a', 10)"
   ]
  },
  {
   "cell_type": "code",
   "execution_count": 10,
   "metadata": {},
   "outputs": [
    {
     "data": {
      "text/plain": [
       "{'Pie': 9.0,\n",
       " 'Oreo': 8.0,\n",
       " 'Nougat1': 7.0,\n",
       " 'Marshmallow': 6.0,\n",
       " 'Nougat': 10.0,\n",
       " 'a': 10}"
      ]
     },
     "execution_count": 10,
     "metadata": {},
     "output_type": "execute_result"
    }
   ],
   "source": [
    "a_version\n"
   ]
  },
  {
   "cell_type": "code",
   "execution_count": 11,
   "metadata": {},
   "outputs": [
    {
     "data": {
      "text/plain": [
       "10"
      ]
     },
     "execution_count": 11,
     "metadata": {},
     "output_type": "execute_result"
    }
   ],
   "source": [
    "a_version.setdefault('a', 5)"
   ]
  },
  {
   "cell_type": "code",
   "execution_count": 12,
   "metadata": {},
   "outputs": [
    {
     "data": {
      "text/plain": [
       "list"
      ]
     },
     "execution_count": 12,
     "metadata": {},
     "output_type": "execute_result"
    }
   ],
   "source": [
    "x = [1, 1, 2, 3, 4, 5,6 ]\n",
    "type(x)"
   ]
  },
  {
   "cell_type": "code",
   "execution_count": 13,
   "metadata": {},
   "outputs": [
    {
     "data": {
      "text/plain": [
       "{1, 2, 3, 4, 5, 6}"
      ]
     },
     "execution_count": 13,
     "metadata": {},
     "output_type": "execute_result"
    }
   ],
   "source": [
    "set(x)"
   ]
  },
  {
   "cell_type": "code",
   "execution_count": null,
   "metadata": {},
   "outputs": [],
   "source": []
  }
 ],
 "metadata": {
  "kernelspec": {
   "display_name": "Python 3",
   "language": "python",
   "name": "python3"
  },
  "language_info": {
   "codemirror_mode": {
    "name": "ipython",
    "version": 3
   },
   "file_extension": ".py",
   "mimetype": "text/x-python",
   "name": "python",
   "nbconvert_exporter": "python",
   "pygments_lexer": "ipython3",
   "version": "3.7.1"
  }
 },
 "nbformat": 4,
 "nbformat_minor": 2
}
