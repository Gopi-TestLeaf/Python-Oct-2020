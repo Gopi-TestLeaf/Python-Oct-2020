{
 "cells": [
  {
   "cell_type": "code",
   "execution_count": null,
   "metadata": {},
   "outputs": [],
   "source": [
    "# Learn Tuple\n",
    "\n",
    "    - its also like list, Tuple is Sequence of values\n",
    "    - its immutable\n",
    "    - tuple created by ('ele1', 'ele2')\n",
    "    \n",
    "    \n",
    "    # Create Tuple\n",
    "    # update Tuple\n",
    "    # Delete Tuple\n",
    "    # Slicing Tuple"
   ]
  },
  {
   "cell_type": "code",
   "execution_count": 14,
   "metadata": {},
   "outputs": [
    {
     "name": "stdout",
     "output_type": "stream",
     "text": [
      "<class 'tuple'>\n",
      "('Python', 'Appium', 'DS', 'Selenium', 'WS')\n",
      "2340722917920\n",
      "**************************************************\n",
      "<class 'tuple'>\n",
      "()\n",
      "2340648976448\n",
      "**************************************************\n",
      "<class 'tuple'>\n",
      "('Python',)\n",
      "2340722847904\n",
      "**************************************************\n",
      "<class 'tuple'>\n",
      "('python', 'java', 'golang')\n",
      "2340722610432\n",
      "**************************************************\n"
     ]
    }
   ],
   "source": [
    "# Create Tuple\n",
    "\n",
    "# Way 1:\n",
    "\n",
    "programs = ('Python', 'Appium', 'DS', 'Selenium', 'WS')\n",
    "print(type(programs))\n",
    "print(programs)\n",
    "print(id(programs))\n",
    "print(\"*\"*50)\n",
    "\n",
    "\n",
    "# Way 2:\n",
    "programs = ()\n",
    "print(type(programs))\n",
    "print(programs)\n",
    "print(id(programs))\n",
    "print(\"*\"*50)\n",
    "\n",
    "\n",
    "# Way 3:\n",
    "programs = ('Python',)\n",
    "print(type(programs))\n",
    "print(programs)\n",
    "print(id(programs))\n",
    "print(\"*\"*50)\n",
    "\n",
    "# Way 4:\n",
    "programs = 'python', 'java', 'golang'\n",
    "print(type(programs))\n",
    "print(programs)\n",
    "print(id(programs))\n",
    "print(\"*\"*50)"
   ]
  },
  {
   "cell_type": "code",
   "execution_count": 2,
   "metadata": {},
   "outputs": [
    {
     "data": {
      "text/plain": [
       "tuple"
      ]
     },
     "execution_count": 2,
     "metadata": {},
     "output_type": "execute_result"
    }
   ],
   "source": [
    "type(programs)"
   ]
  },
  {
   "cell_type": "code",
   "execution_count": 18,
   "metadata": {},
   "outputs": [
    {
     "data": {
      "text/plain": [
       "('a', 'b', 'c', 1, 2, 3)"
      ]
     },
     "execution_count": 18,
     "metadata": {},
     "output_type": "execute_result"
    }
   ],
   "source": [
    "# Update Tuple\n",
    "tp1 = ('a', 'b', 'c')\n",
    "tp2 = (1, 2, 3)\n",
    "\n",
    "tp3 = tp1 + tp2\n",
    "\n",
    "tp3"
   ]
  },
  {
   "cell_type": "code",
   "execution_count": 20,
   "metadata": {},
   "outputs": [],
   "source": [
    "# Delete Tuple\n",
    "\n",
    "del tp3"
   ]
  },
  {
   "cell_type": "code",
   "execution_count": 21,
   "metadata": {},
   "outputs": [
    {
     "ename": "NameError",
     "evalue": "name 'tp3' is not defined",
     "output_type": "error",
     "traceback": [
      "\u001b[1;31m---------------------------------------------------------------------------\u001b[0m",
      "\u001b[1;31mNameError\u001b[0m                                 Traceback (most recent call last)",
      "\u001b[1;32m<ipython-input-21-f5795bba3186>\u001b[0m in \u001b[0;36m<module>\u001b[1;34m\u001b[0m\n\u001b[1;32m----> 1\u001b[1;33m \u001b[0mtp3\u001b[0m\u001b[1;33m\u001b[0m\u001b[1;33m\u001b[0m\u001b[0m\n\u001b[0m",
      "\u001b[1;31mNameError\u001b[0m: name 'tp3' is not defined"
     ]
    }
   ],
   "source": [
    "tp3"
   ]
  },
  {
   "cell_type": "code",
   "execution_count": 22,
   "metadata": {},
   "outputs": [
    {
     "data": {
      "text/plain": [
       "(1, 2, 3, 4)"
      ]
     },
     "execution_count": 22,
     "metadata": {},
     "output_type": "execute_result"
    }
   ],
   "source": [
    "lst = [1, 2 ,3 , 4]\n",
    "\n",
    "tuple(lst)"
   ]
  },
  {
   "cell_type": "code",
   "execution_count": 23,
   "metadata": {},
   "outputs": [
    {
     "data": {
      "text/plain": [
       "[10, 20, 30, 40]"
      ]
     },
     "execution_count": 23,
     "metadata": {},
     "output_type": "execute_result"
    }
   ],
   "source": [
    "tp1 = (10, 20, 30, 40)\n",
    "list(tp1)"
   ]
  },
  {
   "cell_type": "code",
   "execution_count": 33,
   "metadata": {},
   "outputs": [
    {
     "name": "stdout",
     "output_type": "stream",
     "text": [
      "Enter the a value: 100\n",
      "Enter the b value: 1000\n",
      "1100\n"
     ]
    }
   ],
   "source": [
    "a = int(input(\"Enter the a value: \"))\n",
    "b = int(input(\"Enter the b value: \"))\n",
    "\n",
    "if (a > b):\n",
    "    print(a + 100)\n",
    "else:\n",
    "    print(b + 100)"
   ]
  },
  {
   "cell_type": "code",
   "execution_count": 29,
   "metadata": {},
   "outputs": [
    {
     "data": {
      "text/plain": [
       "str"
      ]
     },
     "execution_count": 29,
     "metadata": {},
     "output_type": "execute_result"
    }
   ],
   "source": [
    "type(txt)"
   ]
  },
  {
   "cell_type": "code",
   "execution_count": null,
   "metadata": {},
   "outputs": [],
   "source": []
  }
 ],
 "metadata": {
  "kernelspec": {
   "display_name": "Python 3",
   "language": "python",
   "name": "python3"
  },
  "language_info": {
   "codemirror_mode": {
    "name": "ipython",
    "version": 3
   },
   "file_extension": ".py",
   "mimetype": "text/x-python",
   "name": "python",
   "nbconvert_exporter": "python",
   "pygments_lexer": "ipython3",
   "version": "3.8.3"
  }
 },
 "nbformat": 4,
 "nbformat_minor": 4
}
